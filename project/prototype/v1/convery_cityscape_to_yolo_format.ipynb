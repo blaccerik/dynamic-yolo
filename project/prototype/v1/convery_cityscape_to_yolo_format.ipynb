{
 "cells": [
  {
   "cell_type": "markdown",
   "source": [
    "# this script is used to convert cityscape dataset to:\n",
    "# .png and .txt files that can be used with yolov5"
   ],
   "metadata": {
    "collapsed": false
   }
  },
  {
   "cell_type": "code",
   "execution_count": 10,
   "outputs": [],
   "source": [
    "import os\n",
    "import json\n",
    "\n",
    "annotation_root  = \"cityscape_dataset/gtFine_trainvaltest/gtFine\"\n",
    "images_root = \"cityscape_dataset/leftImg8bit_trainvaltest/leftImg8bit\"\n",
    "\n",
    "images_final_destination = \"datasets/cityscape/images\"\n",
    "labels_final_destination = \"datasets/cityscape/labels\""
   ],
   "metadata": {
    "collapsed": false
   }
  },
  {
   "cell_type": "code",
   "execution_count": 15,
   "outputs": [],
   "source": [
    "# move files\n",
    "\n",
    "for split in os.listdir(images_root):\n",
    "    split_path = os.path.join(images_root, split)\n",
    "    for city in os.listdir(split_path):\n",
    "        files_path = os.path.join(split_path, city)\n",
    "        for file in os.listdir(files_path):\n",
    "            image_path = os.path.join(files_path, file)\n",
    "            name = file.split(\"_left\")[0] + \".png\"\n",
    "            new_name = os.path.join(images_final_destination, name)\n",
    "            os.rename(image_path, new_name)\n"
   ],
   "metadata": {
    "collapsed": false
   }
  },
  {
   "cell_type": "code",
   "execution_count": 16,
   "outputs": [],
   "source": [
    "\"\"\"\n",
    "from cityscape website\n",
    "Group\tClasses\n",
    "----------------------------------\n",
    "flat\troad · sidewalk · parking+ · rail track+\n",
    "human\tperson* · rider*\n",
    "vehicle\tcar* · truck* · bus* · on rails* · motorcycle* · bicycle* · caravan*+ · trailer*+\n",
    "construction\tbuilding · wall · fence · guard rail+ · bridge+ · tunnel+\n",
    "object\tpole · pole group+ · traffic sign · traffic light\n",
    "nature\tvegetation · terrain\n",
    "sky\tsky\n",
    "void\tground+ · dynamic+ · static+\n",
    "\"\"\"\n",
    "\n",
    "name_to_number = {\n",
    "    \"road\": 0,\n",
    "    \"sidewalk\": 0,\n",
    "\n",
    "    \"person\": 1,\n",
    "    \"persongroup\": 1,\n",
    "    \"ridergroup\": 1,\n",
    "    \"rider\": 1,\n",
    "\n",
    "    \"car\": 2,\n",
    "    \"truck\": 2,\n",
    "    \"truckgroup\": 2,\n",
    "    \"bus\": 2,\n",
    "    \"motorcycle\": 2,\n",
    "    \"motorcyclegroup\": 2,\n",
    "    \"bicycle\": 2,\n",
    "    \"bicyclegroup\": 2,\n",
    "    \"caravan\": 2,\n",
    "    \"trailer\": 2,\n",
    "    \"cargroup\": 2,\n",
    "\n",
    "    \"building\": 3,\n",
    "    \"wall\": 3,\n",
    "    \"fence\": 3,\n",
    "    \"guard rail\": 3,\n",
    "    \"bridge\": 3,\n",
    "    \"tunnel\": 3,\n",
    "\n",
    "    \"pole\": 4,\n",
    "    \"polegroup\": 4,\n",
    "    \"traffic sign\": 4,\n",
    "    \"traffic light\": 4,\n",
    "\n",
    "    \"terrain\": 5,\n",
    "    \"vegetation\": 5,\n",
    "\n",
    "    \"sky\": 6,\n",
    "\n",
    "    \"static\": 7,\n",
    "    \"dynamic\": 7,\n",
    "    \"ground\": 7,\n",
    "\n",
    "    # unknown:\n",
    "    \"license plate\": -1,\n",
    "    'ego vehicle': -1,\n",
    "    'rectification border': -1,\n",
    "    'out of roi': -1,\n",
    "    \"parking\": -1,\n",
    "    \"train\": -1,\n",
    "    \"rail track\": -1,\n",
    "}"
   ],
   "metadata": {
    "collapsed": false
   }
  },
  {
   "cell_type": "code",
   "execution_count": 23,
   "outputs": [],
   "source": [
    "# create labels for images\n",
    "\n",
    "for split in os.listdir(annotation_root):\n",
    "    split_path = os.path.join(annotation_root, split)\n",
    "    for city in os.listdir(split_path):\n",
    "        files_path = os.path.join(split_path, city)\n",
    "        for file in os.listdir(files_path):\n",
    "            if file.endswith(\".json\"):\n",
    "                file_path = os.path.join(files_path, file)\n",
    "                name = file.split(\"_gtFine\")[0] + \".txt\"\n",
    "                rows = []\n",
    "                with open(file_path, \"r\") as f:\n",
    "                    json_obj = json.load(f)\n",
    "                    h = json_obj['imgHeight']\n",
    "                    w = json_obj['imgWidth']\n",
    "                    obs = json_obj['objects']\n",
    "                    for o in obs:\n",
    "                        label = o[\"label\"]\n",
    "                        label_number = name_to_number[label]\n",
    "                        if label_number != -1:\n",
    "                            coords = o[\"polygon\"]\n",
    "                            max_w = max(coords, key=lambda x : x[0])[0]\n",
    "                            min_w = min(coords, key=lambda x : x[0])[0]\n",
    "                            max_h = max(coords, key=lambda x : x[1])[1]\n",
    "                            min_h = min(coords, key=lambda x : x[1])[1]\n",
    "                            w_center = ((min_w + max_w) / 2) / w\n",
    "                            w_size = (max_w - min_w) / w\n",
    "                            h_center = ((min_h + max_h) / 2) / h\n",
    "                            h_size = (max_h - min_h) / h\n",
    "                            line = f\"{label_number} {w_center:.6f} {h_center:.6f} {w_size:.6f} {h_size:.6f}\\n\"\n",
    "                            rows.append(line)\n",
    "                with open(os.path.join(labels_final_destination, name), \"w\") as f:\n",
    "                    f.writelines(rows)"
   ],
   "metadata": {
    "collapsed": false
   }
  },
  {
   "cell_type": "code",
   "execution_count": null,
   "outputs": [],
   "source": [],
   "metadata": {
    "collapsed": false
   }
  }
 ],
 "metadata": {
  "kernelspec": {
   "display_name": "Python 3",
   "language": "python",
   "name": "python3"
  },
  "language_info": {
   "codemirror_mode": {
    "name": "ipython",
    "version": 2
   },
   "file_extension": ".py",
   "mimetype": "text/x-python",
   "name": "python",
   "nbconvert_exporter": "python",
   "pygments_lexer": "ipython2",
   "version": "2.7.6"
  }
 },
 "nbformat": 4,
 "nbformat_minor": 0
}
