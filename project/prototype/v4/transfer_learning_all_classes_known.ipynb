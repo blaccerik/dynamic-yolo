{
 "cells": [
  {
   "cell_type": "code",
   "execution_count": null,
   "outputs": [],
   "source": [],
   "metadata": {
    "collapsed": false
   }
  },
  {
   "cell_type": "code",
   "execution_count": 1,
   "outputs": [],
   "source": [
    "output_data = \"data\""
   ],
   "metadata": {
    "collapsed": false
   }
  },
  {
   "cell_type": "code",
   "execution_count": 2,
   "outputs": [],
   "source": [
    "import yaml\n",
    "# find which classes need to be removed and which need to be remapped\n",
    "# for both datasets\n",
    "\n",
    "def swap_keys(dict_):\n",
    "    return dict((v,k) for k,v in dict_.items())\n",
    "\n",
    "data = \"coco128\"\n",
    "data_yaml_path1 = \"yolov5/data/VisDrone.yaml\"\n",
    "data_yaml_path2 = \"yolov5/data/VOC.yaml\"\n",
    "\n",
    "with open(data_yaml_path1, \"r\") as stream:\n",
    "    data_yaml1 = yaml.safe_load(stream)\n",
    "\n",
    "with open(data_yaml_path2, \"r\") as stream:\n",
    "    data_yaml2 = yaml.safe_load(stream)\n",
    "\n",
    "dict1 = swap_keys(data_yaml1[\"names\"])\n",
    "dict2 = swap_keys(data_yaml2[\"names\"])\n",
    "\n",
    "remove_dict = {x for x in dict1 if x in dict2}\n",
    "remove_from_dataset1 = set()\n",
    "remove_from_dataset2 = set()\n",
    "\n",
    "for i in remove_dict:\n",
    "    if i in dict1:\n",
    "        remove_from_dataset1.add(dict1[i])\n",
    "        del dict1[i]\n",
    "    if i in dict2:\n",
    "        remove_from_dataset2.add(dict2[i])\n",
    "        del dict2[i]\n",
    "\n",
    "remap_dataset1 = {}\n",
    "remap_dataset2 = {}\n",
    "count = 0\n",
    "final_names = {}\n",
    "\n",
    "for i in dict1:\n",
    "    nr = dict1[i]\n",
    "    remap_dataset1[nr] = count\n",
    "    final_names[count] = i\n",
    "    count += 1\n",
    "\n",
    "for i in dict2:\n",
    "    nr = dict2[i]\n",
    "    remap_dataset2[nr] = count\n",
    "    final_names[count] = i\n",
    "    count += 1\n"
   ],
   "metadata": {
    "collapsed": false
   }
  },
  {
   "cell_type": "code",
   "execution_count": 11,
   "outputs": [],
   "source": [
    "import shutil\n",
    "# create dataset1\n",
    "import os\n",
    "dataset1_path = \"datasets/VisDrone/VisDrone2019-DET-train\"\n",
    "output_path1 = \"data/images1\"\n",
    "\n",
    "cache = set()\n",
    "for i in os.listdir(os.path.join(dataset1_path, \"images\")):\n",
    "    name, _ = i.split(\".\")\n",
    "    cache.add(name)\n",
    "\n",
    "    shutil.copy2(os.path.join(dataset1_path, \"images\", i), os.path.join(output_path1, i))\n",
    "\n",
    "    if len(cache) == 1000:\n",
    "        break\n",
    "for i in os.listdir(os.path.join(dataset1_path, \"labels\")):\n",
    "    name, _ = i.split(\".\")\n",
    "    if name in cache:\n",
    "        text = \"\"\n",
    "        with open(os.path.join(dataset1_path, \"labels\", i), \"r\") as f:\n",
    "            for line in f.readlines():\n",
    "                nr, a, b, c, d = line.strip().split(\" \")\n",
    "                nr = int(nr)\n",
    "                if nr in remove_from_dataset1:\n",
    "                    continue\n",
    "                new_nr = remap_dataset1[nr]\n",
    "                new_line = f\"{new_nr} {a} {b} {c} {d}\\n\"\n",
    "                text += new_line\n",
    "\n",
    "        with open(f\"data/labels1/{i}\", \"w\") as text_file:\n",
    "            text_file.write(text)"
   ],
   "metadata": {
    "collapsed": false
   }
  },
  {
   "cell_type": "code",
   "execution_count": 14,
   "outputs": [
    {
     "name": "stdout",
     "output_type": "stream",
     "text": [
      "1000\n"
     ]
    }
   ],
   "source": [
    "# create dataset2\n",
    "\n",
    "dataset1_path = \"datasets/VOC\"\n",
    "output_path1 = \"data/images2\"\n",
    "\n",
    "cache = set()\n",
    "for i in os.listdir(os.path.join(dataset1_path, \"images\", \"train2007\")):\n",
    "    name, _ = i.split(\".\")\n",
    "    cache.add(name)\n",
    "\n",
    "    shutil.copy2(os.path.join(dataset1_path, \"images\", \"train2007\", i), os.path.join(output_path1, i))\n",
    "\n",
    "    if len(cache) == 1000:\n",
    "        print(\"1000\")\n",
    "        break\n",
    "for i in os.listdir(os.path.join(dataset1_path, \"labels\", \"train2007\")):\n",
    "    name, _ = i.split(\".\")\n",
    "    if name in cache:\n",
    "        text = \"\"\n",
    "        with open(os.path.join(dataset1_path, \"labels\", \"train2007\", i), \"r\") as f:\n",
    "            for line in f.readlines():\n",
    "                nr, a, b, c, d = line.strip().split(\" \")\n",
    "                nr = int(nr)\n",
    "                if nr in remove_from_dataset2:\n",
    "                    continue\n",
    "                new_nr = remap_dataset2[nr]\n",
    "                new_line = f\"{new_nr} {a} {b} {c} {d}\\n\"\n",
    "                text += new_line\n",
    "\n",
    "        with open(f\"data/labels2/{i}\", \"w\") as text_file:\n",
    "            text_file.write(text)\n"
   ],
   "metadata": {
    "collapsed": false
   }
  },
  {
   "cell_type": "code",
   "execution_count": 7,
   "outputs": [
    {
     "ename": "NameError",
     "evalue": "name 'final_names' is not defined",
     "output_type": "error",
     "traceback": [
      "\u001B[0;31m---------------------------------------------------------------------------\u001B[0m",
      "\u001B[0;31mNameError\u001B[0m                                 Traceback (most recent call last)",
      "Cell \u001B[0;32mIn [7], line 1\u001B[0m\n\u001B[0;32m----> 1\u001B[0m \u001B[38;5;28;01mfor\u001B[39;00m k, v \u001B[38;5;129;01min\u001B[39;00m \u001B[43mfinal_names\u001B[49m\u001B[38;5;241m.\u001B[39mitems():\n\u001B[1;32m      2\u001B[0m     \u001B[38;5;28mprint\u001B[39m(\u001B[38;5;124mf\u001B[39m\u001B[38;5;124m\"\u001B[39m\u001B[38;5;132;01m{\u001B[39;00mk\u001B[38;5;132;01m}\u001B[39;00m\u001B[38;5;124m: \u001B[39m\u001B[38;5;124m'\u001B[39m\u001B[38;5;132;01m{\u001B[39;00mv\u001B[38;5;132;01m}\u001B[39;00m\u001B[38;5;124m'\u001B[39m\u001B[38;5;124m,\u001B[39m\u001B[38;5;124m\"\u001B[39m)\n",
      "\u001B[0;31mNameError\u001B[0m: name 'final_names' is not defined"
     ]
    }
   ],
   "source": [
    "for k, v in final_names.items():\n",
    "    print(f\"{k}: '{v}',\")"
   ],
   "metadata": {
    "collapsed": false
   }
  },
  {
   "cell_type": "code",
   "execution_count": 17,
   "outputs": [],
   "source": [
    "# make a test set from data\n",
    "\n",
    "import os\n",
    "\n",
    "files = set()\n",
    "for i in os.listdir(\"data/dataset1/train/images\"):\n",
    "    name = i.split(\".\")[0]\n",
    "    files.add(name)\n",
    "    os.rename(f\"data/dataset1/train/images/{i}\", f\"data/dataset1/test/images/{i}\")\n",
    "    if len(files) == 250:\n",
    "        break\n",
    "\n",
    "for i in os.listdir(\"data/dataset1/train/labels\"):\n",
    "    name = i.split(\".\")[0]\n",
    "    if name not in files:\n",
    "        continue\n",
    "    os.rename(f\"data/dataset1/train/labels/{i}\", f\"data/dataset1/test/labels/{i}\")\n"
   ],
   "metadata": {
    "collapsed": false
   }
  },
  {
   "cell_type": "code",
   "execution_count": 19,
   "outputs": [],
   "source": [
    "files = set()\n",
    "for i in os.listdir(\"data/dataset2/train/images\"):\n",
    "    name = i.split(\".\")[0]\n",
    "    files.add(name)\n",
    "    os.rename(f\"data/dataset2/train/images/{i}\", f\"data/dataset2/test/images/{i}\")\n",
    "    if len(files) == 250:\n",
    "        break\n",
    "\n",
    "for i in os.listdir(\"data/dataset2/train/labels\"):\n",
    "    name = i.split(\".\")[0]\n",
    "    if name not in files:\n",
    "        continue\n",
    "    os.rename(f\"data/dataset2/train/labels/{i}\", f\"data/dataset2/test/labels/{i}\")"
   ],
   "metadata": {
    "collapsed": false
   }
  },
  {
   "cell_type": "markdown",
   "source": [
    "datasets are made\n",
    "\n",
    "now train them with yolo\n",
    "\n",
    "use colab if possible"
   ],
   "metadata": {
    "collapsed": false
   }
  },
  {
   "cell_type": "code",
   "execution_count": 5,
   "outputs": [
    {
     "name": "stderr",
     "output_type": "stream",
     "text": [
      "\u001B[34m\u001B[1mval: \u001B[0mdata=yolov5/data/coco128.yaml, weights=yolov5/yolov5s.pt, batch_size=32, imgsz=640, conf_thres=0.001, iou_thres=0.6, max_det=300, task=val, device=, workers=8, single_cls=False, augment=False, verbose=False, save_txt=False, save_hybrid=False, save_conf=False, save_json=False, project=yolov5/runs/val, name=exp, exist_ok=False, half=False, dnn=False\n",
      "WARNING ⚠️ --save-hybrid will return high mAP from hybrid labels, not from predictions alone\n",
      "YOLOv5 🚀 2023-2-1 Python-3.8.16 torch-1.13.0+cu117 CUDA:0 (NVIDIA GeForce GTX 1050 Ti, 4040MiB)\n",
      "\n",
      "Fusing layers... \n",
      "YOLOv5s summary: 157 layers, 7074853 parameters, 0 gradients, 16.0 GFLOPs\n",
      "\u001B[34m\u001B[1mtest: \u001B[0mScanning /home/erik/PycharmProjects/dynamic-yolo/app/prototype/v4/data/dataset1/test/labels... 500 images, 35 backgrounds, 0 corrupt: 100%|██████████| 500/500 [00:00<00:00, 1828.42it/s]\n",
      "\u001B[34m\u001B[1mtest: \u001B[0mNew cache created: /home/erik/PycharmProjects/dynamic-yolo/app/prototype/v4/data/dataset1/test/labels.cache\n",
      "                 Class     Images  Instances          P          R      mAP50   mAP50-95:   6%|▋         | 1/16 [00:06<01:38,  6.60s/it]WARNING ⚠️ NMS time limit 2.100s exceeded\n",
      "                 Class     Images  Instances          P          R      mAP50   mAP50-95:  12%|█▎        | 2/16 [00:12<01:24,  6.03s/it]WARNING ⚠️ NMS time limit 2.100s exceeded\n",
      "                 Class     Images  Instances          P          R      mAP50   mAP50-95: 100%|██████████| 16/16 [00:50<00:00,  3.16s/it]\n",
      "                   all        500       7876          1      0.954      0.953      0.953\n",
      "            pedestrian        500       3090          1      0.831      0.839      0.839\n",
      "                people        500       1085          1      0.897      0.907      0.901\n",
      "                   van        500       1141          1      0.754      0.759      0.759\n",
      "                 truck        500        526          1      0.854      0.857      0.857\n",
      "              tricycle        500        161          1      0.932      0.938      0.938\n",
      "       awning-tricycle        500        151          1      0.788        0.8        0.8\n",
      "                 motor        500       1195          1      0.861      0.869      0.869\n",
      "             aeroplane        500         13          1          1      0.995      0.995\n",
      "                  bird        500         26          1          1      0.995      0.995\n",
      "                  boat        500         13          1          1      0.995      0.995\n",
      "                bottle        500         24          1          1      0.995      0.995\n",
      "                   cat        500         26          1          1      0.995      0.995\n",
      "                 chair        500         39          1          1      0.995      0.995\n",
      "                   cow        500         17          1          1      0.995      0.995\n",
      "           diningtable        500          9          1          1      0.995      0.995\n",
      "                   dog        500         20          1          1      0.995      0.995\n",
      "                 horse        500          9          1          1      0.995      0.995\n",
      "             motorbike        500         12          1          1      0.995      0.995\n",
      "                person        500        235          1      0.991      0.995      0.995\n",
      "           pottedplant        500         34          1          1      0.995      0.995\n",
      "                 sheep        500          8          1          1      0.995      0.995\n",
      "                  sofa        500         14          1          1      0.995      0.995\n",
      "                 train        500         11          1          1      0.995      0.995\n",
      "             tvmonitor        500         17          1          1      0.995      0.995\n",
      "Speed: 0.3ms pre-process, 11.8ms inference, 15.8ms NMS per image at shape (32, 3, 640, 640)\n",
      "Results saved to \u001B[1myolov5/runs/val/exp20\u001B[0m\n",
      "460 labels saved to yolov5/runs/val/exp20/labels\n"
     ]
    }
   ],
   "source": [
    "# validate model\n",
    "\n",
    "import yolov5.val as v\n",
    "\n",
    "opt = v.parse_opt(known=True)\n",
    "setattr(opt, \"data\", \"data/data_test.yaml\")\n",
    "setattr(opt, \"weights\", \"100.pt\")\n",
    "setattr(opt, \"task\", \"test\")\n",
    "setattr(opt, \"save_txt\", True)\n",
    "setattr(opt, \"save_hybrid\", True)\n",
    "setattr(opt, \"save_conf\", True)\n",
    "setattr(opt, \"verbose\", True)\n",
    "v.main(opt)"
   ],
   "metadata": {
    "collapsed": false
   }
  },
  {
   "cell_type": "markdown",
   "source": [
    "train new model with colab using old weights"
   ],
   "metadata": {
    "collapsed": false
   }
  },
  {
   "cell_type": "code",
   "execution_count": 6,
   "outputs": [
    {
     "name": "stderr",
     "output_type": "stream",
     "text": [
      "\u001B[34m\u001B[1mval: \u001B[0mdata=yolov5/data/coco128.yaml, weights=yolov5/yolov5s.pt, batch_size=32, imgsz=640, conf_thres=0.001, iou_thres=0.6, max_det=300, task=val, device=, workers=8, single_cls=False, augment=False, verbose=False, save_txt=False, save_hybrid=False, save_conf=False, save_json=False, project=yolov5/runs/val, name=exp, exist_ok=False, half=False, dnn=False\n",
      "WARNING ⚠️ --save-hybrid will return high mAP from hybrid labels, not from predictions alone\n",
      "YOLOv5 🚀 2023-2-1 Python-3.8.16 torch-1.13.0+cu117 CUDA:0 (NVIDIA GeForce GTX 1050 Ti, 4040MiB)\n",
      "\n",
      "Fusing layers... \n",
      "Model summary: 157 layers, 7074853 parameters, 0 gradients, 16.0 GFLOPs\n",
      "\u001B[34m\u001B[1mtest: \u001B[0mScanning /home/erik/PycharmProjects/dynamic-yolo/app/prototype/v4/data/dataset1/test/labels.cache... 500 images, 35 backgrounds, 0 corrupt: 100%|██████████| 500/500 [00:00<?, ?it/s]\n",
      "                 Class     Images  Instances          P          R      mAP50   mAP50-95:  19%|█▉        | 3/16 [00:18<01:26,  6.68s/it]WARNING ⚠️ NMS time limit 2.100s exceeded\n",
      "                 Class     Images  Instances          P          R      mAP50   mAP50-95: 100%|██████████| 16/16 [00:36<00:00,  2.30s/it]\n",
      "                   all        500       7876          1      0.986      0.989      0.989\n",
      "            pedestrian        500       3090          1      0.939      0.968      0.968\n",
      "                people        500       1085          1      0.993      0.995      0.995\n",
      "                   van        500       1141          1       0.88      0.936      0.936\n",
      "                 truck        500        526          1      0.892      0.936      0.936\n",
      "              tricycle        500        161          1          1      0.995      0.995\n",
      "       awning-tricycle        500        151          1          1      0.995      0.995\n",
      "                 motor        500       1195          1      0.981       0.99       0.99\n",
      "             aeroplane        500         13          1          1      0.995      0.995\n",
      "                  bird        500         26          1          1      0.995      0.995\n",
      "                  boat        500         13          1          1      0.995      0.995\n",
      "                bottle        500         24          1          1      0.995      0.995\n",
      "                   cat        500         26          1          1      0.995      0.995\n",
      "                 chair        500         39          1          1      0.995      0.995\n",
      "                   cow        500         17          1          1      0.995      0.995\n",
      "           diningtable        500          9          1          1      0.995      0.995\n",
      "                   dog        500         20          1          1      0.995      0.995\n",
      "                 horse        500          9          1          1      0.995      0.995\n",
      "             motorbike        500         12          1          1      0.995      0.995\n",
      "                person        500        235          1      0.991      0.995      0.995\n",
      "           pottedplant        500         34          1          1      0.995      0.995\n",
      "                 sheep        500          8          1          1      0.995      0.995\n",
      "                  sofa        500         14          1          1      0.995      0.995\n",
      "                 train        500         11          1          1      0.995      0.995\n",
      "             tvmonitor        500         17          1          1      0.995      0.995\n",
      "Speed: 0.3ms pre-process, 12.6ms inference, 7.1ms NMS per image at shape (32, 3, 640, 640)\n",
      "Results saved to \u001B[1myolov5/runs/val/exp21\u001B[0m\n",
      "480 labels saved to yolov5/runs/val/exp21/labels\n"
     ]
    }
   ],
   "source": [
    "# validate model\n",
    "\n",
    "import yolov5.val as v\n",
    "\n",
    "opt = v.parse_opt(known=True)\n",
    "setattr(opt, \"data\", \"data/data_test.yaml\")\n",
    "setattr(opt, \"weights\", \"100_100.pt\")\n",
    "setattr(opt, \"task\", \"test\")\n",
    "setattr(opt, \"save_txt\", True)\n",
    "setattr(opt, \"save_hybrid\", True)\n",
    "setattr(opt, \"save_conf\", True)\n",
    "setattr(opt, \"verbose\", True)\n",
    "v.main(opt)"
   ],
   "metadata": {
    "collapsed": false
   }
  },
  {
   "cell_type": "code",
   "execution_count": null,
   "outputs": [],
   "source": [],
   "metadata": {
    "collapsed": false
   }
  }
 ],
 "metadata": {
  "kernelspec": {
   "display_name": "Python 3",
   "language": "python",
   "name": "python3"
  },
  "language_info": {
   "codemirror_mode": {
    "name": "ipython",
    "version": 2
   },
   "file_extension": ".py",
   "mimetype": "text/x-python",
   "name": "python",
   "nbconvert_exporter": "python",
   "pygments_lexer": "ipython2",
   "version": "2.7.6"
  }
 },
 "nbformat": 4,
 "nbformat_minor": 0
}
